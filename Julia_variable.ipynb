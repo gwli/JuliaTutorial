{
 "cells": [
  {
   "cell_type": "markdown",
   "metadata": {},
   "source": [
    "# Julia 采用类C的方法\n",
    "  \n",
    "* 变量名区分大小写,\n",
    "* 可以直接使用unicode字符来当变量，\n",
    "  * 对于数学符号可以直接使用latex 语句+ tab 来完成自动输入\n",
    "  * 重定义的常数 \n",
    "    * inf16 inf32 inf, 正无穷\n",
    "    * -inf16 -inf32 -inf 负无穷\n",
    "    * NaN16 NaN32 NaN  不存在\n",
    "    \n",
    "* 变量是有类型，没有指定的，会在每一次使用时自动识别\n",
    "\n",
    "* 类型\n",
    "  * 复数和分数\n",
    "  * 字符串索引从1开始\n",
    "    字符串可以像$内插字符串文本。\n",
    "    区分版本号常量\n",
    "* 符号对象\n",
    "   :foo  symbol(\"foo\")\n",
    "   : 引用\n",
    "   求部的求值 \n",
    "* 数组支持，并且原生支持类似于 numpy 的功能。\n",
    "  * 支持广播\n",
    "  * 列存储\n",
    "  * 支持矩阵的分解"
   ]
  },
  {
   "cell_type": "code",
   "execution_count": 20,
   "metadata": {},
   "outputs": [
    {
     "data": {
      "text/plain": [
       ":(1 + b)"
      ]
     },
     "execution_count": 20,
     "metadata": {},
     "output_type": "execute_result"
    }
   ],
   "source": [
    "ex=:(a+b*c+1)\n",
    "a=1\n",
    "ex = :($a+b)"
   ]
  },
  {
   "cell_type": "code",
   "execution_count": 18,
   "metadata": {},
   "outputs": [
    {
     "data": {
      "text/plain": [
       "33"
      ]
     },
     "execution_count": 18,
     "metadata": {},
     "output_type": "execute_result"
    }
   ],
   "source": [
    "x = 10\n",
    "\n",
    "δ=23\n",
    "\n",
    "y = x + δ"
   ]
  },
  {
   "cell_type": "markdown",
   "metadata": {},
   "source": [
    "# 命名规范\n",
    "\n",
    "* 变量名使用小写字母\n",
    "* 单词间使用以下划线分隔\n",
    "* 类型名首字母大小，采用驼峰格式\n",
    "* 函数名与宏名使用小写字母，不使用下划线分隔\n",
    "* 修改参数函数结尾使用!"
   ]
  },
  {
   "cell_type": "code",
   "execution_count": 6,
   "metadata": {},
   "outputs": [
    {
     "data": {
      "text/plain": [
       "Int64"
      ]
     },
     "execution_count": 6,
     "metadata": {},
     "output_type": "execute_result"
    }
   ],
   "source": [
    "# 变量也都是有类型\n",
    "typeof(1234)"
   ]
  },
  {
   "cell_type": "code",
   "execution_count": 9,
   "metadata": {},
   "outputs": [
    {
     "data": {
      "text/plain": [
       "Inf"
      ]
     },
     "execution_count": 9,
     "metadata": {},
     "output_type": "execute_result"
    }
   ],
   "source": [
    "500 +Inf"
   ]
  },
  {
   "cell_type": "code",
   "execution_count": 11,
   "metadata": {},
   "outputs": [
    {
     "data": {
      "text/plain": [
       "NaN"
      ]
     },
     "execution_count": 11,
     "metadata": {},
     "output_type": "execute_result"
    }
   ],
   "source": [
    "0/0"
   ]
  },
  {
   "cell_type": "code",
   "execution_count": 12,
   "metadata": {},
   "outputs": [
    {
     "data": {
      "text/plain": [
       "Inf"
      ]
     },
     "execution_count": 12,
     "metadata": {},
     "output_type": "execute_result"
    }
   ],
   "source": [
    "Inf + Inf"
   ]
  },
  {
   "cell_type": "code",
   "execution_count": 14,
   "metadata": {},
   "outputs": [
    {
     "data": {
      "text/plain": [
       "2.220446049250313e-16"
      ]
     },
     "execution_count": 14,
     "metadata": {},
     "output_type": "execute_result"
    }
   ],
   "source": [
    "# procision\n",
    "eps(Float64)"
   ]
  },
  {
   "cell_type": "code",
   "execution_count": 15,
   "metadata": {},
   "outputs": [
    {
     "data": {
      "text/plain": [
       "3"
      ]
     },
     "execution_count": 15,
     "metadata": {},
     "output_type": "execute_result"
    }
   ],
   "source": [
    "x=3"
   ]
  },
  {
   "cell_type": "code",
   "execution_count": 16,
   "metadata": {},
   "outputs": [
    {
     "data": {
      "text/plain": [
       "37"
      ]
     },
     "execution_count": 16,
     "metadata": {},
     "output_type": "execute_result"
    }
   ],
   "source": [
    "3x^2+3x+1"
   ]
  },
  {
   "cell_type": "code",
   "execution_count": 17,
   "metadata": {},
   "outputs": [
    {
     "data": {
      "text/plain": [
       "true"
      ]
     },
     "execution_count": 17,
     "metadata": {},
     "output_type": "execute_result"
    }
   ],
   "source": [
    "# 链式比较\n",
    "1< 2 <=2 <3==3 >2 >1 == 1<3 !=5"
   ]
  },
  {
   "cell_type": "markdown",
   "metadata": {},
   "source": [
    "# 数学计算\n",
    "\n",
    "* 默认具用常用数学计算，以及三角函数 \n",
    "  \n",
    "   * sqrt, cbrt\n",
    "   * hypot(x,y)  sqrt(x^2 + y^2)\n",
    "   * airy(z) 求导"
   ]
  }
 ],
 "metadata": {
  "kernelspec": {
   "display_name": "Julia 1.1.0",
   "language": "julia",
   "name": "julia-1.1"
  },
  "language_info": {
   "file_extension": ".jl",
   "mimetype": "application/julia",
   "name": "julia",
   "version": "1.1.0"
  }
 },
 "nbformat": 4,
 "nbformat_minor": 2
}
