{
 "cells": [
  {
   "cell_type": "code",
   "execution_count": 1,
   "metadata": {},
   "outputs": [
    {
     "name": "stdout",
     "output_type": "stream",
     "text": [
      "aaa\n"
     ]
    },
    {
     "data": {
      "text/plain": [
       "Process(`\u001b[4mecho\u001b[24m \u001b[4maaa\u001b[24m`, ProcessExited(0))"
      ]
     },
     "execution_count": 1,
     "metadata": {},
     "output_type": "execute_result"
    }
   ],
   "source": [
    "run(`echo aaa`)"
   ]
  },
  {
   "cell_type": "code",
   "execution_count": 2,
   "metadata": {},
   "outputs": [
    {
     "ename": "UndefVarError",
     "evalue": "UndefVarError: readall not defined",
     "output_type": "error",
     "traceback": [
      "UndefVarError: readall not defined",
      "",
      "Stacktrace:",
      " [1] top-level scope at In[2]:1"
     ]
    }
   ],
   "source": [
    "output=readall(`echo hello`)"
   ]
  },
  {
   "cell_type": "markdown",
   "metadata": {},
   "source": [
    "可以直接使用shell的管道，也可以用 julia自身的管道 |> `命令`"
   ]
  },
  {
   "cell_type": "code",
   "execution_count": 4,
   "metadata": {},
   "outputs": [
    {
     "ename": "ErrorException",
     "evalue": "error compiling top-level scope: could not load library \"libc\"\n/usr/lib/x86_64-linux-gnu/libc.so: invalid ELF header",
     "output_type": "error",
     "traceback": [
      "error compiling top-level scope: could not load library \"libc\"\n/usr/lib/x86_64-linux-gnu/libc.so: invalid ELF header",
      ""
     ]
    }
   ],
   "source": [
    "# (:function \"library\")\n",
    "\n",
    "ccall((:clock, \"libc\"),Int32,())"
   ]
  }
 ],
 "metadata": {
  "kernelspec": {
   "display_name": "Julia 1.1.0",
   "language": "julia",
   "name": "julia-1.1"
  },
  "language_info": {
   "file_extension": ".jl",
   "mimetype": "application/julia",
   "name": "julia",
   "version": "1.1.0"
  }
 },
 "nbformat": 4,
 "nbformat_minor": 2
}
